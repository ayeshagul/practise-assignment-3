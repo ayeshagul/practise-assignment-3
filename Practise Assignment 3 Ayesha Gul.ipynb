{
 "cells": [
  {
   "cell_type": "markdown",
   "metadata": {},
   "source": [
    "# Student Name: \"Ayesha Gul\"\n",
    "## Student ID: AIC031243\n",
    "## Assignment:\" Practise Assignment 3\"\n",
    "## Faculty : \"Sir Nasir Hussain\"\n",
    "## Location :\" Sindh Boys Scout Assoication\"                                  ##Timing: (9:00am-12:00am)"
   ]
  },
  {
   "cell_type": "markdown",
   "metadata": {},
   "source": [
    "# Q1"
   ]
  },
  {
   "cell_type": "markdown",
   "metadata": {},
   "source": [
    "Think of at least three kinds of your favorite pizza. Store these pizza names in a list, and then use a for loop to print the name of each pizza."
   ]
  },
  {
   "cell_type": "code",
   "execution_count": 2,
   "metadata": {},
   "outputs": [
    {
     "name": "stdout",
     "output_type": "stream",
     "text": [
      "spicy_pizza\n",
      "chicken_pizza\n",
      "tandori_pizza\n"
     ]
    }
   ],
   "source": [
    "favourite_pizza = [\"spicy_pizza\", \"chicken_pizza\", \"tandori_pizza\"]\n",
    "for a in favourite_pizza:\n",
    "     print(a)"
   ]
  },
  {
   "cell_type": "markdown",
   "metadata": {},
   "source": [
    "# Q2"
   ]
  },
  {
   "cell_type": "markdown",
   "metadata": {},
   "source": [
    "Start with your last question , Modify your for loop to print a sentence using the name of the pizza\n",
    "instead of printing just the name of the pizza. For each pizza you should\n",
    "have one line of output containing a simple statement like I like pepperoni\n",
    "pizza."
   ]
  },
  {
   "cell_type": "code",
   "execution_count": 3,
   "metadata": {},
   "outputs": [],
   "source": [
    "simple_statement = [\"Chicken pizza\" , \" Pepperoni pizza\", \"spicy pizza\"]"
   ]
  },
  {
   "cell_type": "code",
   "execution_count": 4,
   "metadata": {},
   "outputs": [
    {
     "name": "stdout",
     "output_type": "stream",
     "text": [
      "I like Chicken pizza\n",
      "I like  Pepperoni pizza\n",
      "I like spicy pizza\n"
     ]
    }
   ],
   "source": [
    "for a in simple_statement:\n",
    "    print(\"I like \" + a)"
   ]
  },
  {
   "cell_type": "markdown",
   "metadata": {},
   "source": [
    "# Q3:"
   ]
  },
  {
   "cell_type": "markdown",
   "metadata": {},
   "source": [
    "Use a for loop to print the numbers from 1 to 20,\n",
    "inclusive."
   ]
  },
  {
   "cell_type": "code",
   "execution_count": 5,
   "metadata": {},
   "outputs": [
    {
     "name": "stdout",
     "output_type": "stream",
     "text": [
      "1\n",
      "2\n",
      "3\n",
      "4\n",
      "5\n",
      "6\n",
      "7\n",
      "8\n",
      "9\n",
      "10\n",
      "11\n",
      "12\n",
      "13\n",
      "14\n",
      "15\n",
      "16\n",
      "17\n",
      "18\n",
      "19\n",
      "20\n"
     ]
    }
   ],
   "source": [
    "for a in range(1,21):\n",
    "    print(a)"
   ]
  },
  {
   "cell_type": "markdown",
   "metadata": {},
   "source": [
    "# Q4:"
   ]
  },
  {
   "cell_type": "markdown",
   "metadata": {},
   "source": [
    "Use the third argument of the range() function to make a list\n",
    "of the odd numbers from 1 to 20. Use a for loop to print each number."
   ]
  },
  {
   "cell_type": "code",
   "execution_count": 6,
   "metadata": {},
   "outputs": [
    {
     "name": "stdout",
     "output_type": "stream",
     "text": [
      "1\n",
      "3\n",
      "5\n",
      "7\n",
      "9\n",
      "11\n",
      "13\n",
      "15\n",
      "17\n",
      "19\n"
     ]
    }
   ],
   "source": [
    "for b in range(1,21,2):\n",
    "    print(b)"
   ]
  },
  {
   "cell_type": "markdown",
   "metadata": {},
   "source": [
    "# Q5:"
   ]
  },
  {
   "cell_type": "markdown",
   "metadata": {},
   "source": [
    "Make a list of the multiples of 3 from 3 to 30. Use a for loop to\n",
    "print the numbers in your list."
   ]
  },
  {
   "cell_type": "code",
   "execution_count": 7,
   "metadata": {},
   "outputs": [
    {
     "name": "stdout",
     "output_type": "stream",
     "text": [
      "3\n",
      "6\n",
      "9\n",
      "12\n",
      "15\n",
      "18\n",
      "21\n",
      "24\n",
      "27\n",
      "30\n"
     ]
    }
   ],
   "source": [
    "multiples_of_3 = [value for value in range(3, 31, 3)]\n",
    "\n",
    "for multiple in multiples_of_3:\n",
    "    print(multiple)"
   ]
  },
  {
   "cell_type": "markdown",
   "metadata": {},
   "source": [
    "# Q6:"
   ]
  },
  {
   "cell_type": "markdown",
   "metadata": {},
   "source": [
    "A number raised to the third power is called a cube. For example,\n",
    "the cube of 2 is written as 2**3 in Python. Make a list of the first 10 cubes (that\n",
    "is, the cube of each integer from 1 through 10), and use a for loop to print out\n",
    "the value of each cube"
   ]
  },
  {
   "cell_type": "code",
   "execution_count": 8,
   "metadata": {},
   "outputs": [
    {
     "name": "stdout",
     "output_type": "stream",
     "text": [
      "1\n",
      "8\n",
      "27\n",
      "64\n",
      "125\n",
      "216\n",
      "343\n",
      "512\n",
      "729\n",
      "1000\n"
     ]
    }
   ],
   "source": [
    "cubes = [value ** 3 for value in range(1,11)]\n",
    "for x in cubes:\n",
    "    print(x) "
   ]
  },
  {
   "cell_type": "markdown",
   "metadata": {},
   "source": [
    "# Q7:"
   ]
  },
  {
   "cell_type": "markdown",
   "metadata": {},
   "source": [
    "###### Make a python program that conatains your nine favourite dishes in a list called foods.\n",
    "\n",
    "###### Print the message, The first three items in the list are:. \n",
    "###### Then use a slice to print the first three items from that program’s list.\n",
    "\n",
    "###### Print the message, Three items from the middle of the list are:\n",
    "###### Use a slice to print three items from the middle of the list.\n",
    "\n",
    "###### Print the message, The last three items in the list are:\n",
    "###### Use a slice to print the last three items in the list."
   ]
  },
  {
   "cell_type": "code",
   "execution_count": 9,
   "metadata": {},
   "outputs": [],
   "source": [
    "favourite_dishes = [\"biryani\", 'korma', \"kofty\", 'chiken', 'pulao', 'zarda', 'karahi', 'kabab', \"fish\"]\n",
    "\n"
   ]
  },
  {
   "cell_type": "code",
   "execution_count": null,
   "metadata": {},
   "outputs": [
    {
     "name": "stdout",
     "output_type": "stream",
     "text": [
      "the first three item in the list are\n",
      "biryani\n",
      "korma\n",
      "kofty\n"
     ]
    }
   ],
   "source": [
    "print(\"the first three item in the list are\")\n",
    "for item in favourite_dishes[:3]:\n",
    "        print(item)"
   ]
  },
  {
   "cell_type": "code",
   "execution_count": null,
   "metadata": {},
   "outputs": [
    {
     "name": "stdout",
     "output_type": "stream",
     "text": [
      "the middle three item of the list are\n",
      "chiken\n",
      "pulao\n",
      "zarda\n"
     ]
    }
   ],
   "source": [
    "print(\"the middle three item of the list are\")\n",
    "for item in favourite_dishes[3:6]:\n",
    "    print(item)"
   ]
  },
  {
   "cell_type": "code",
   "execution_count": null,
   "metadata": {},
   "outputs": [
    {
     "name": "stdout",
     "output_type": "stream",
     "text": [
      "The last three items in the list are:\n",
      "karahi\n",
      "kabab\n",
      "fish\n"
     ]
    }
   ],
   "source": [
    "print(\"The last three items in the list are:\")\n",
    "for item in favourite_dishes[6:]:\n",
    "    print(item)"
   ]
  },
  {
   "cell_type": "markdown",
   "metadata": {},
   "source": [
    "# Q8:"
   ]
  },
  {
   "cell_type": "markdown",
   "metadata": {},
   "source": [
    "### Start with your program from your last Question8.\n",
    "###### Make a copy of the list of foods, and call it friend_foods.\n",
    "###### Then, do the following:\n",
    "######    Add a new dish to the original list.\n",
    "######    Add a different dish to the list friend_foodss.\n",
    "######    Prove that you have two separate lists. \n",
    "###### Print the message, My favorite pizzas are: and then use a for loop to print the first list. \n",
    "###### Print the message,\n",
    "###### My friend’s favorite foods are:, and then use a for loop to print the second list.\n",
    "    \n",
    "##### NOTE: Make sure each new dish is stored in the appropriate list."
   ]
  },
  {
   "cell_type": "code",
   "execution_count": null,
   "metadata": {},
   "outputs": [
    {
     "name": "stdout",
     "output_type": "stream",
     "text": [
      "My favorite foods are:\n",
      "\n",
      "fries\n",
      "biryani\n",
      "white karhai\n",
      "tandori chiken\n",
      "pulao\n",
      "Nihaari\n",
      "\n",
      "My friend's favorite foods are:\n",
      "\n",
      "fries\n",
      "biryani\n",
      "white karhai\n",
      "tandori chiken\n",
      "pulao\n",
      "Chapli Kabaab\n"
     ]
    }
   ],
   "source": [
    "my_foods = [\"fries\", \"biryani\", \"white karhai\", \"tandori chiken\", \"pulao\"]\n",
    "\n",
    "friend_foods = my_foods.copy()\n",
    "\n",
    "my_foods.append(\"Nihaari\")\n",
    "\n",
    "friend_foods.append(\"Chapli Kabaab\")\n",
    "\n",
    "print(\"My favorite foods are:\\n\")\n",
    "\n",
    "for food in my_foods:\n",
    "    print(food)\n",
    "\n",
    "    \n",
    "print(\"\\nMy friend's favorite foods are:\\n\")\n",
    "\n",
    "for food in friend_foods:\n",
    "    print(food)"
   ]
  },
  {
   "cell_type": "markdown",
   "metadata": {},
   "source": [
    "# Q9:"
   ]
  },
  {
   "cell_type": "markdown",
   "metadata": {},
   "source": [
    "Take a user input from console line.Store it in a variable called Alien_color.\n",
    "\n",
    "If the alien’s color is red, print a statement that the player just earned 5 points for shooting the alien.\n",
    "\n",
    "If the alien’s color isn’t green, print a statement that the player just earned 10 points.\n",
    "\n",
    "If the alien's color isn't red or green , print a statment :, Alien is no more....."
   ]
  },
  {
   "cell_type": "code",
   "execution_count": null,
   "metadata": {},
   "outputs": [],
   "source": [
    "Alien_color = input(\"Enter the Alien color ?\")\n",
    "if Alien_color==\"red\":\n",
    "    print(\"The player earned 5 points\")\n",
    "elif Alien_color==\"green\":\n",
    "    print(\"The player earned 10 points\")\n",
    "else:\n",
    "    print(\"Alien is no more...\")"
   ]
  },
  {
   "cell_type": "markdown",
   "metadata": {},
   "source": [
    "# Q10:"
   ]
  },
  {
   "cell_type": "markdown",
   "metadata": {},
   "source": [
    "Write an if-elif-else chain that determines a person’s\n",
    "stage of life. Set a value for the variable age, and then:\n",
    "    \n",
    "•\t If the person is less than 2 years old, print a message that the person is a baby.\n",
    "\n",
    "•\t If the person is at least 2 years old but less than 4, print a message that the person is a toddler.\n",
    "\n",
    "•\t If the person is at least 4 years old but less than 13, print a message that the person is a kid.\n",
    "\n",
    "•\t If the person is at least 13 years old but less than 20, print a message that the person is a teenager.\n",
    "\n",
    "•\t If the person is at least 20 years old but less than 65, print a message that the person is an adult.\n",
    "\n",
    "•\t If the person is age 65 or older, print a message that the person is an elder."
   ]
  },
  {
   "cell_type": "code",
   "execution_count": 45,
   "metadata": {},
   "outputs": [
    {
     "name": "stdout",
     "output_type": "stream",
     "text": [
      "the person is an adult\n"
     ]
    }
   ],
   "source": [
    "age = 28\n",
    "if age < 2:\n",
    "    print(\"person is a baby\")\n",
    "elif age >= 2 and age < 4:\n",
    "    print(\"person is a toddler\")\n",
    "elif  age >= 4 and age < 13:\n",
    "    print(\"the person is a kid\")\n",
    "elif  age >= 13 and age < 20:\n",
    "     print(\"the person is teenager\")\n",
    "elif age >= 20 and age < 65:\n",
    "    print(\"the person is an adult\")\n",
    "else: \n",
    "    print(\"the person is an elder\")\n",
    "    "
   ]
  },
  {
   "cell_type": "markdown",
   "metadata": {},
   "source": [
    "# Q11:"
   ]
  },
  {
   "cell_type": "markdown",
   "metadata": {},
   "source": [
    "Do the following to create a program that simulates how websites ensure that everyone has a unique username.\n",
    "\n",
    "•\t Make a list of five or more usernames called current_users.\n",
    "\n",
    "•\t Make another list of five usernames called new_users. \n",
    "Make sure one or two of the new usernames are also in the current_users list.\n",
    "\n",
    "•\t Loop through the new_users list to see if each new username has already been used. \n",
    "If it has, print a message that the person will need to enter a new username. \n",
    "If a username has not been used, print a message saying that the username is available.\n",
    "\n",
    "•\t Make sure your comparison is case insensitive. If 'John' has been used, 'JOHN' should not be accepted."
   ]
  },
  {
   "cell_type": "code",
   "execution_count": 44,
   "metadata": {},
   "outputs": [
    {
     "name": "stdout",
     "output_type": "stream",
     "text": [
      "'ayesha' username is already used!\n",
      "You have to enter a new username!\n",
      "\n",
      "Enter Username: gul\n",
      "'urwa' username is available!\n",
      "'naz' username is available!\n",
      "'umaima' username is available!\n",
      "'Gul' username is available!\n"
     ]
    }
   ],
   "source": [
    "current_users = [\"ayesha\", \"gul\", \"farah\", \"komal\", \"sana\"]\n",
    "new_users = [\"ayesha\", \"gul\", \"urwa\", \"naz\", \"umaima\"]\n",
    "for new_user in new_users:\n",
    "    if new_user in current_users:\n",
    "        print(\"'\"+ new_user + \"' username is already used!\\nYou have to enter a new username!\\n\")\n",
    "        \n",
    "        new_users.remove(new_user)\n",
    "        \n",
    "        username = input(\"Enter Username: \")\n",
    "        \n",
    "        if username.lower() == new_user.lower():\n",
    "            print(\"'\"+ new_user + \"' username is already used!\\nYou have to enter a new username!\\n\")\n",
    "        else:\n",
    "            new_users.append(username.title())\n",
    "    else:\n",
    "        print(\"'\"+ new_user + \"' username is available!\")\n",
    "    "
   ]
  },
  {
   "cell_type": "markdown",
   "metadata": {},
   "source": [
    "# Q12:"
   ]
  },
  {
   "cell_type": "markdown",
   "metadata": {},
   "source": [
    "Use a dictionary to store information about a person you know.\n",
    "Store their first name, last name, age, and the city in which they live. \n",
    "You should have keys such as first_name, last_name, age, and city. \n",
    "Print each piece of information stored in your dictionary"
   ]
  },
  {
   "cell_type": "code",
   "execution_count": 43,
   "metadata": {},
   "outputs": [
    {
     "name": "stdout",
     "output_type": "stream",
     "text": [
      "First Name: Ayesha\n",
      "Last Name: gul\n",
      "Age: 23\n",
      "City: Karachi\n"
     ]
    }
   ],
   "source": [
    "person = {\n",
    "    \"first_name\": \"Ayesha\",\n",
    "    \"last_name\": \"gul\",\n",
    "    \"age\": 23,\n",
    "    \"city\": \"Karachi\"\n",
    "}\n",
    "\n",
    "print(\"First Name: \" + person[\"first_name\"])\n",
    "print(\"Last Name: \" + person[\"last_name\"])\n",
    "print(\"Age: \" + str(person[\"age\"]))\n",
    "print(\"City: \" + person[\"city\"])"
   ]
  },
  {
   "cell_type": "markdown",
   "metadata": {},
   "source": [
    "# Q13:"
   ]
  },
  {
   "cell_type": "markdown",
   "metadata": {},
   "source": [
    "Starts with your last question 12 , loop through the dictionary’s keys and values.\n",
    "When you’re sure that your loop works, add five more Python terms to your\n",
    "dictionary . When you run your program again, these new words and meanings\n",
    "should automatically be included in the output."
   ]
  },
  {
   "cell_type": "code",
   "execution_count": 9,
   "metadata": {},
   "outputs": [
    {
     "name": "stdout",
     "output_type": "stream",
     "text": [
      "firstName: Ayesha Gul\n",
      "Course: PIAIC-AI\n",
      "age: 23\n",
      "city: Karachi\n",
      "after new value assign\n",
      "firstName:Ayesha Gul\n",
      "Course:PIAIC-AI\n",
      "age:23\n",
      "city:Karachi\n",
      "def:Define\n",
      "if:Conditional\n",
      "for: iteration-loop\n",
      "pass:Value assign\n"
     ]
    }
   ],
   "source": [
    "student = {\n",
    "    \"firstName\": \"Ayesha Gul\",\n",
    "    \"Course\": \"PIAIC-AI\",\n",
    "    \"age\": \"23\",\n",
    "    \"city\": \"Karachi\",\n",
    "}\n",
    "\n",
    "for key, value in student.items():\n",
    "    print(key + \": \" + value)\n",
    "print(\"after new value assign\")\n",
    "student[\"def\"]= \"Define\"\n",
    "student[\"if\"]=\"Conditional\"\n",
    "student[\"for\"]= \" iteration-loop\"\n",
    "student[\"pass\"]= \"Value assign\"\n",
    "for key, value in student.items():\n",
    "    print(key +\":\"+ value)"
   ]
  },
  {
   "cell_type": "markdown",
   "metadata": {},
   "source": [
    "# Q14:"
   ]
  },
  {
   "cell_type": "markdown",
   "metadata": {},
   "source": [
    "Make a dictionary containing three major rivers and the country\n",
    "each river runs through. One key-value pair might be 'nile': 'egypt'.\n",
    "    \n",
    "    \n",
    "•\t Use a loop to print a sentence about each river, such as The Nile runs\n",
    "through Egypt.\n",
    "\n",
    "NOTE: use upper case through keys and values."
   ]
  },
  {
   "cell_type": "code",
   "execution_count": 13,
   "metadata": {},
   "outputs": [
    {
     "name": "stdout",
     "output_type": "stream",
     "text": [
      "The RIVER INDUS runs through PAKISTAN.\n",
      "The RIVER TIGEIS runs through IRAQ.\n",
      "The RIVER NILE  runs through EGYPT.\n"
     ]
    }
   ],
   "source": [
    "majorriver = {\n",
    "                \"River Indus\":\"Pakistan\",\n",
    "                \"River Tigeis\":\"Iraq\",\n",
    "                \"River Nile \": \"Egypt\",\n",
    "             } \n",
    "for river,country in majorriver.items():\n",
    "    print(\"The \"+ river.upper() +\" runs through \"+ country.upper() +\".\")\n"
   ]
  },
  {
   "cell_type": "markdown",
   "metadata": {},
   "source": [
    "# Q15:"
   ]
  },
  {
   "cell_type": "markdown",
   "metadata": {},
   "source": [
    "Make several dictionaries, where the name of each dictionary is the\n",
    "name of a pet. In each dictionary, include the kind of animal and the owner’s\n",
    "name. Store these dictionaries in a list called pets. Next, loop through your list\n",
    "and as you do print everything you know about each pet."
   ]
  },
  {
   "cell_type": "code",
   "execution_count": 39,
   "metadata": {},
   "outputs": [
    {
     "name": "stdout",
     "output_type": "stream",
     "text": [
      "kind: mammal\n",
      "owner_name: gul\n",
      "\n",
      "kind: bird\n",
      "owner_name: rubi\n",
      "\n",
      "kind: mammal\n",
      "owner_name: toba\n",
      "\n"
     ]
    }
   ],
   "source": [
    "dog = {\n",
    "    \"kind\": \"mammal\",\n",
    "    \"owner_name\": \"gul\"\n",
    "}\n",
    "\n",
    "pigeon = {\n",
    "    \"kind\": \"bird\",\n",
    "    \"owner_name\": \"rubi\"\n",
    "}\n",
    "\n",
    "cat = {\n",
    "    \"kind\": \"mammal\",\n",
    "    \"owner_name\": \"toba\"\n",
    "}\n",
    "\n",
    "pets = [dog, pigeon, cat]\n",
    "\n",
    "for pet in pets:\n",
    "    for key, value in pet.items():\n",
    "        print(key + \": \" + value)\n",
    "    print()"
   ]
  }
 ],
 "metadata": {
  "kernelspec": {
   "display_name": "Python 3",
   "language": "python",
   "name": "python3"
  },
  "language_info": {
   "codemirror_mode": {
    "name": "ipython",
    "version": 3
   },
   "file_extension": ".py",
   "mimetype": "text/x-python",
   "name": "python",
   "nbconvert_exporter": "python",
   "pygments_lexer": "ipython3",
   "version": "3.7.3"
  }
 },
 "nbformat": 4,
 "nbformat_minor": 2
}
